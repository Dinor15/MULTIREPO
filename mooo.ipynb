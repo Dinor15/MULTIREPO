{
 "cells": [
  {
   "cell_type": "code",
   "execution_count": 3,
   "id": "fdc3683c-0444-4126-acf2-3aeb3e348f5c",
   "metadata": {},
   "outputs": [],
   "source": [
    "fichero=open(\"archivo1.txt\",\"w\")\n",
    "fichero.write(\"holiss \")\n",
    "fichero.close()"
   ]
  },
  {
   "cell_type": "code",
   "execution_count": 1,
   "id": "c8cc7180-4481-4a02-bede-5a1ff01316b1",
   "metadata": {},
   "outputs": [
    {
     "name": "stdout",
     "output_type": "stream",
     "text": [
      "C:\\Users\\MollyconMdemarixd\\Desktop\n"
     ]
    }
   ],
   "source": [
    "import os\n",
    "print(os.getcwd())\n",
    "os.chdir(\"\\\\Users\\\\MollyconMdemarixd\\\\Desktop\\\\meee\")\n"
   ]
  },
  {
   "cell_type": "code",
   "execution_count": 2,
   "id": "807f05c7-fe14-4515-b23d-330624b0d09a",
   "metadata": {},
   "outputs": [
    {
     "name": "stdout",
     "output_type": "stream",
     "text": [
      "C:\\Users\\MollyconMdemarixd\\Desktop\\meee\n"
     ]
    }
   ],
   "source": [
    "print(os.getcwd())"
   ]
  },
  {
   "cell_type": "code",
   "execution_count": 6,
   "id": "efaca101-d22c-45fa-876d-c5b2b8737996",
   "metadata": {},
   "outputs": [
    {
     "name": "stdout",
     "output_type": "stream",
     "text": [
      "holiss \n"
     ]
    }
   ],
   "source": [
    "fichero=open(\"archivo1.txt\",\"r\")\n",
    "x=fichero.readlines()\n",
    "fichero.close()\n",
    "print(x[0])\n"
   ]
  },
  {
   "cell_type": "code",
   "execution_count": null,
   "id": "df445866-98ff-4614-9481-0169cc669e79",
   "metadata": {},
   "outputs": [],
   "source": []
  }
 ],
 "metadata": {
  "kernelspec": {
   "display_name": "Python 3 (ipykernel)",
   "language": "python",
   "name": "python3"
  },
  "language_info": {
   "codemirror_mode": {
    "name": "ipython",
    "version": 3
   },
   "file_extension": ".py",
   "mimetype": "text/x-python",
   "name": "python",
   "nbconvert_exporter": "python",
   "pygments_lexer": "ipython3",
   "version": "3.11.7"
  }
 },
 "nbformat": 4,
 "nbformat_minor": 5
}
